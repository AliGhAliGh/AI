{
 "cells": [
  {
   "cell_type": "markdown",
   "id": "24a88d84-7881-4ba8-8c65-318987ca0b58",
   "metadata": {
    "editable": true,
    "slideshow": {
     "slide_type": ""
    },
    "tags": []
   },
   "source": [
    "<style>\n",
    "h1 {\n",
    "   text-align: center;\n",
    "}\n",
    "p {\n",
    "   text-align: center;\n",
    "}\n",
    "div {\n",
    "   text-align: center;\n",
    "}\n",
    "</style>\n",
    "\n",
    "<h1>This is a heading</h1>\n",
    "<p>This is a paragraph.</p>\n",
    "<div>This is a div.</div>"
   ]
  },
  {
   "cell_type": "code",
   "execution_count": 15,
   "id": "f476b32c-06bf-4af6-a82a-fc8bc886a68e",
   "metadata": {
    "editable": true,
    "slideshow": {
     "slide_type": ""
    },
    "tags": []
   },
   "outputs": [],
   "source": [
    "degree=4\n",
    "interval=(-10,10)\n",
    "points=[(0,1),(1,0),(2,-5),(-1,-8)]\n",
    "class Chromosome:\n",
    "    def __init__(self,coefficients:tuple) -> None:\n",
    "        self.coefficient=coefficients\n",
    "    \n",
    "    def Calculate(self,x:int)->int:\n",
    "        return sum (i[1]*x**i[0] for i in enumerate(self.coefficient))"
   ]
  },
  {
   "cell_type": "code",
   "execution_count": 16,
   "id": "3773538e",
   "metadata": {},
   "outputs": [],
   "source": [
    "def Utility(chromosome:Chromosome)->int:\n",
    "    return sum(abs(chromosome.Calculate(i[0])-i[1]) for i in points)"
   ]
  },
  {
   "cell_type": "code",
   "execution_count": 17,
   "id": "b4e6b5a5",
   "metadata": {},
   "outputs": [
    {
     "name": "stdout",
     "output_type": "stream",
     "text": [
      "0\n"
     ]
    }
   ],
   "source": [
    "a= Chromosome((1,3,-5,1,0))\n",
    "print(Utility(a))"
   ]
  }
 ],
 "metadata": {
  "kernelspec": {
   "display_name": "Python 3 (ipykernel)",
   "language": "python",
   "name": "python3"
  },
  "language_info": {
   "codemirror_mode": {
    "name": "ipython",
    "version": 3
   },
   "file_extension": ".py",
   "mimetype": "text/x-python",
   "name": "python",
   "nbconvert_exporter": "python",
   "pygments_lexer": "ipython3",
   "version": "3.11.3"
  },
  "toc": {
   "base_numbering": 1
  }
 },
 "nbformat": 4,
 "nbformat_minor": 5
}
